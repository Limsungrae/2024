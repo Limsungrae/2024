{
  "nbformat": 4,
  "nbformat_minor": 0,
  "metadata": {
    "colab": {
      "provenance": [],
      "authorship_tag": "ABX9TyNpxdoJTxQAloQSekJwVXKa",
      "include_colab_link": true
    },
    "kernelspec": {
      "name": "python3",
      "display_name": "Python 3"
    },
    "language_info": {
      "name": "python"
    }
  },
  "cells": [
    {
      "cell_type": "markdown",
      "metadata": {
        "id": "view-in-github",
        "colab_type": "text"
      },
      "source": [
        "<a href=\"https://colab.research.google.com/github/Limsungrae/2024/blob/main/24_09_30_%ED%8A%B8%EB%A0%8C%EC%8A%A4%ED%8F%AC%EB%A8%B8.ipynb\" target=\"_parent\"><img src=\"https://colab.research.google.com/assets/colab-badge.svg\" alt=\"Open In Colab\"/></a>"
      ]
    },
    {
      "cell_type": "code",
      "execution_count": 34,
      "metadata": {
        "id": "O_ovRnFPY7qJ"
      },
      "outputs": [],
      "source": []
    },
    {
      "cell_type": "markdown",
      "source": [
        "## map 함수\n",
        "- map() 함수는 파이썬에서 반복 가능한(iterable) 객체의 각 요소에 지정된 함수를 적용하여 그 결과를 반환하는 함수입니다.\n",
        "- 간단히 말해,리스트나 튜플 같은 데이터에 포함된 각각의 요소에 특정한 함수를 적용하고 그 결과를 반환하는 역할을 합니다.\n",
        "- map() 함수의 기본 구조 =  map(함수, 반복 가능한 객체)\n",
        "\n",
        "## map 함수의 특징\n",
        "- map() 함수는 결과를 map 객체로 반환합니다. 리스트로 사용하려면 list() 함수를 통해 리스트로 변환해야 합니다.\n"
      ],
      "metadata": {
        "id": "4DoAfqAKaF3v"
      }
    },
    {
      "cell_type": "code",
      "source": [
        "# map ()함수의 예시\n",
        "\n",
        "# 숫자 리스트를 정의합니다.\n",
        "numbers = [1, 2, 3, 4, 5]\n",
        "\n",
        "# 입력값 x를 제곱하여 반환하는 함수 정의\n",
        "def square(x):\n",
        "    return x * x\n",
        "\n",
        "# map() 함수를 사용해 numbers 리스트의 각 요소에 square 함수를 적용하고,\n",
        "# 그 결과를 리스트로 변환하여 squared_numbers 변수에 저장\n",
        "squared_numbers = list(map(square, numbers))\n",
        "\n",
        "# 제곱된 숫자 리스트를 출력\n",
        "print(squared_numbers)  # [1, 4, 9, 16, 25]\n"
      ],
      "metadata": {
        "colab": {
          "base_uri": "https://localhost:8080/"
        },
        "id": "vfJLKrHWZF3g",
        "outputId": "f7bd63a4-de3a-4095-b8de-a3f175ac387a"
      },
      "execution_count": 5,
      "outputs": [
        {
          "output_type": "stream",
          "name": "stdout",
          "text": [
            "[1, 4, 9, 16, 25]\n"
          ]
        }
      ]
    },
    {
      "cell_type": "markdown",
      "source": [
        "# filter 함수"
      ],
      "metadata": {
        "id": "hY_0MwiHbGlj"
      }
    },
    {
      "cell_type": "code",
      "source": [
        "# 숫자 리스트를 정의합니다.\n",
        "numbers = [1, 2, 3, 4, 5, 6]\n",
        "\n",
        "# 입력값 num이 짝수인지 확인하는 함수 정의\n",
        "# 짝수이면 True, 홀수이면 False를 반환\n",
        "def is_even(num):\n",
        "    return num % 2 == 0\n",
        "\n",
        "# filter() 함수를 사용해 numbers 리스트의 각 요소에 대해\n",
        "# is_even 함수를 적용하고, 짝수인 요소만 걸러낸 뒤 리스트로 변환하여 even_numbers 변수에 저장\n",
        "even_numbers = list(filter(is_even, numbers))\n",
        "\n",
        "# 짝수만 포함된 리스트를 출력\n",
        "print(even_numbers)  # [2, 4, 6]\n"
      ],
      "metadata": {
        "colab": {
          "base_uri": "https://localhost:8080/"
        },
        "id": "pPiOPGR-a5w2",
        "outputId": "2376c450-9ae4-44cd-cb50-cae43bc7345d"
      },
      "execution_count": 8,
      "outputs": [
        {
          "output_type": "stream",
          "name": "stdout",
          "text": [
            "[2, 4, 6]\n"
          ]
        }
      ]
    },
    {
      "cell_type": "markdown",
      "source": [
        "# ZIP 함수"
      ],
      "metadata": {
        "id": "mctRt5f_dfjS"
      }
    },
    {
      "cell_type": "code",
      "source": [
        "keys = ['name', 'age', 'city']\n",
        "values = ['John','27','Seoul']\n",
        "\n",
        "# 1. keys와 values를 zip으로 묶음\n",
        "paris = zip(keys, values)  # 이 단계에서는 zip 객체가 생성됨\n",
        "print(paris)  # zip 객체를 출력, 메모리 위치를 출력함\n",
        "\n",
        "# 2. zip 객체를 dict로 변환하여 사전(my_dict) 생성\n",
        "my_dict = dict(paris)\n",
        "# print(f()\"딕셔너리\"my_dict)  # {'name': 'John', 'age': '27', 'city': 'Seoul'}\n",
        "print(f\"딕셔너리: {my_dict}\")  # {'name': 'John', 'age': '27', 'city': 'Seoul'}\n",
        "\n",
        "# 3. my_dict에서 key와 value를 다시 풀어서 각각 튜플로 받음 (딕션 풀기)\n",
        "key, values = zip(*my_dict.items())\n",
        "# items는 Python에서 주로 딕셔너리(dictionary)와 관련된 메서드입니다.\n",
        "# 딕셔너리의 모든 (key, value) 쌍을 튜플 형태로 반환할 때 사용됩니다.\n",
        "# 딕셔너리의 items() 메서드는 key와 value를 한 쌍으로 묶어주는 튜플들의 리스트를 반환하는 것이 특징입니다.\n",
        "print(f\"키값 :{key}\")     # ('name', 'age', 'city')\n",
        "print(f\"밸류값 :{values}\")  # ('John', '27', 'Seoul')\n"
      ],
      "metadata": {
        "colab": {
          "base_uri": "https://localhost:8080/"
        },
        "id": "IekS4nGidekw",
        "outputId": "3b849bc8-c6c8-4cfb-874e-97775e4dfbda"
      },
      "execution_count": 28,
      "outputs": [
        {
          "output_type": "stream",
          "name": "stdout",
          "text": [
            "<zip object at 0x793d39627c40>\n",
            "딕셔너리: {'name': 'John', 'age': '27', 'city': 'Seoul'}\n",
            "키값 :('name', 'age', 'city')\n",
            "밸류값 :('John', '27', 'Seoul')\n"
          ]
        }
      ]
    },
    {
      "cell_type": "markdown",
      "source": [
        "# ▣ item()의 동작\n"
      ],
      "metadata": {
        "id": "eYdj5Vs6q3D1"
      }
    },
    {
      "cell_type": "code",
      "source": [
        "voca = {'컵': 'cup', '커피': 'coffee', '컴퓨터': 'computer'}\n",
        "\n",
        "# 1. items() 메서드를 사용하여 키-값 쌍을 가져옴\n",
        "result = voca.items()\n",
        "print(result)\n",
        "# dict_items([('컵', 'cup'), ('커피', 'coffee'), ('컴퓨터', 'computer')])\n",
        "\n",
        "# 2. items() 메서드의 반환값의 타입 확인\n",
        "print(type(result))\n",
        "# <class 'dict_items'>  # items() 메서드의 반환값은 dict_items 자료형\n",
        "\n",
        "# 3. items()는 iterable 자료형임을 확인\n",
        "print(iter(result))\n",
        "# <dict_itemiterator object at 0x021CD6F0>\n"
      ],
      "metadata": {
        "colab": {
          "base_uri": "https://localhost:8080/"
        },
        "id": "wONJVURRq2Wm",
        "outputId": "7b1f53eb-da0b-4ec9-83e6-ab9c9a6cd521"
      },
      "execution_count": 31,
      "outputs": [
        {
          "output_type": "stream",
          "name": "stdout",
          "text": [
            "dict_items([('컵', 'cup'), ('커피', 'coffee'), ('컴퓨터', 'computer')])\n",
            "<class 'dict_items'>\n",
            "<dict_itemiterator object at 0x793d38982610>\n"
          ]
        }
      ]
    },
    {
      "cell_type": "code",
      "source": [
        "# for문 활용하여 사용해보기\n",
        "\n",
        "# 이 dict_items 객체는 반복문에서 쉽게 사용할 수 있습니다. 예를 들어:\n",
        "\n",
        "\n",
        "for korean, english in voca.items():\n",
        "    print(f\"{korean}는 영어로 {english}입니다.\")\n",
        "\n",
        "print(korean)"
      ],
      "metadata": {
        "colab": {
          "base_uri": "https://localhost:8080/"
        },
        "id": "IsdJZDLtrw0z",
        "outputId": "20c8ba88-5491-4920-952c-a4c12ba3dffd"
      },
      "execution_count": 35,
      "outputs": [
        {
          "output_type": "stream",
          "name": "stdout",
          "text": [
            "컵는 영어로 cup입니다.\n",
            "커피는 영어로 coffee입니다.\n",
            "컴퓨터는 영어로 computer입니다.\n",
            "컴퓨터\n"
          ]
        }
      ]
    },
    {
      "cell_type": "code",
      "source": [
        "##key 값 확인하기\n",
        "\n",
        "#딕셔너리 생성\n",
        "score_of_stdunts = {201812345:50,20187777:60,20182222:70}\n",
        "\n",
        "# key값만 추출하는 코드\n",
        "result = score_of_stdunts.keys()\n",
        "print(result)\n",
        "# 변수의 타입 확인하기 :(딕셔너리 키값이 나옴)\n",
        "print(type(result))\n",
        "# 변수의 위치 확인\n",
        "print(iter(result))"
      ],
      "metadata": {
        "colab": {
          "base_uri": "https://localhost:8080/"
        },
        "id": "BsWixCZosvSD",
        "outputId": "cb367a72-2587-4621-9734-1059a0753970"
      },
      "execution_count": 42,
      "outputs": [
        {
          "output_type": "stream",
          "name": "stdout",
          "text": [
            "dict_keys([201812345, 20187777, 20182222])\n",
            "<class 'dict_keys'>\n",
            "<dict_keyiterator object at 0x793d38982610>\n"
          ]
        }
      ]
    },
    {
      "cell_type": "markdown",
      "source": [
        "# list , dict로 변환해보기"
      ],
      "metadata": {
        "id": "odm58NSOuCi-"
      }
    },
    {
      "cell_type": "code",
      "source": [
        "# 딕셔너리 생성\n",
        "aa= {'apple':3,'banana':52,'orange':12}\n",
        "print(aa)\n",
        "\n",
        "# 딕셔너리 리스트로 변환\n",
        "bb = list(aa.items())\n",
        "print(bb)\n",
        "\n",
        "#리스트를 딕셔너리로 변환\n",
        "cc= dict(bb)\n",
        "print(cc)"
      ],
      "metadata": {
        "colab": {
          "base_uri": "https://localhost:8080/"
        },
        "id": "qHgO4epItkv0",
        "outputId": "056b6741-7aa9-4bd9-cca6-ffe1739ae086"
      },
      "execution_count": 46,
      "outputs": [
        {
          "output_type": "stream",
          "name": "stdout",
          "text": [
            "{'apple': 3, 'banana': 52, 'orange': 12}\n",
            "[('apple', 3), ('banana', 52), ('orange', 12)]\n",
            "{'apple': 3, 'banana': 52, 'orange': 12}\n"
          ]
        }
      ]
    },
    {
      "cell_type": "markdown",
      "source": [
        "# 파이토치 사용해보기"
      ],
      "metadata": {
        "id": "4DgXSpHE0ipJ"
      }
    },
    {
      "cell_type": "code",
      "source": [
        "pip install torch torchvision torchaudio --extra-index-url https://download.pytorch.org/whl/cuYOUR_CUDA_VERSION\n"
      ],
      "metadata": {
        "colab": {
          "base_uri": "https://localhost:8080/"
        },
        "id": "IwcbNN-1zyHw",
        "outputId": "d1f63faf-fc85-4ae3-cac0-b4f2863e832d"
      },
      "execution_count": 80,
      "outputs": [
        {
          "output_type": "stream",
          "name": "stdout",
          "text": [
            "Looking in indexes: https://pypi.org/simple, https://download.pytorch.org/whl/cuYOUR_CUDA_VERSION\n",
            "Requirement already satisfied: torch in /usr/local/lib/python3.10/dist-packages (2.4.1+cu121)\n",
            "Requirement already satisfied: torchvision in /usr/local/lib/python3.10/dist-packages (0.19.1+cu121)\n",
            "Requirement already satisfied: torchaudio in /usr/local/lib/python3.10/dist-packages (2.4.1+cu121)\n",
            "Requirement already satisfied: filelock in /usr/local/lib/python3.10/dist-packages (from torch) (3.16.1)\n",
            "Requirement already satisfied: typing-extensions>=4.8.0 in /usr/local/lib/python3.10/dist-packages (from torch) (4.12.2)\n",
            "Requirement already satisfied: sympy in /usr/local/lib/python3.10/dist-packages (from torch) (1.13.3)\n",
            "Requirement already satisfied: networkx in /usr/local/lib/python3.10/dist-packages (from torch) (3.3)\n",
            "Requirement already satisfied: jinja2 in /usr/local/lib/python3.10/dist-packages (from torch) (3.1.4)\n",
            "Requirement already satisfied: fsspec in /usr/local/lib/python3.10/dist-packages (from torch) (2024.6.1)\n",
            "Requirement already satisfied: numpy in /usr/local/lib/python3.10/dist-packages (from torchvision) (1.26.4)\n",
            "Requirement already satisfied: pillow!=8.3.*,>=5.3.0 in /usr/local/lib/python3.10/dist-packages (from torchvision) (10.4.0)\n",
            "Requirement already satisfied: MarkupSafe>=2.0 in /usr/local/lib/python3.10/dist-packages (from jinja2->torch) (2.1.5)\n",
            "Requirement already satisfied: mpmath<1.4,>=1.1.0 in /usr/local/lib/python3.10/dist-packages (from sympy->torch) (1.3.0)\n"
          ]
        }
      ]
    },
    {
      "cell_type": "code",
      "source": [
        "import torch\n",
        "\n",
        "# 1. 가상의 입력 데이터 생성\n",
        "inputs = {'device1': torch.randn(2), 'device2': torch.randn(3)}  # 2개와 3개의 랜덤 값을 가지는 텐서 생성\n",
        "print(inputs)\n",
        "\n",
        "# 2. 사용할 장치 설정\n",
        "device = torch.device(\"cuda\" if torch.cuda.is_available() else \"cpu\")  # GPU 사용 여부 확인\n",
        "print(f\"Using device: {device}\")\n",
        "\n",
        "# 3. 랜덤 텐서를 생성하고 장치로 이동\n",
        "x = torch.randn(2, 3).to(device)  # 2x3 크기의 랜덤 텐서를 생성하고 GPU로 이동\n",
        "print(x)\n",
        "\n",
        "# 4. 입력 데이터를 해당 장치로 이동\n",
        "inputs = {k: v.to(device) for k, v in inputs.items()}  # inputs의 모든 텐서를 해당 장치로 이동\n",
        "print(inputs)\n",
        "\n",
        "# 5. 각 장치의 정보 출력\n",
        "for k, v in inputs.items():\n",
        "    print(f\"{k}: {v.device}\")  # 각 텐서가 위치한 장치 정보를 출력\n"
      ],
      "metadata": {
        "colab": {
          "base_uri": "https://localhost:8080/"
        },
        "id": "hHspNo7tuZp8",
        "outputId": "14d1e60a-bcca-4811-b6b6-9b1a508c2ae8"
      },
      "execution_count": 85,
      "outputs": [
        {
          "output_type": "stream",
          "name": "stdout",
          "text": [
            "{'device1': tensor([-1.2546,  0.1427]), 'device2': tensor([-0.4390,  0.6710,\n",
            "-1.2762])}\n",
            "Using device: cpu\n",
            "tensor([[ 0.1774,  1.1034,  0.4563],\n",
            "        [ 1.1778,  0.2870, -0.3914]])\n",
            "{'device1': tensor([-1.2546,  0.1427]), 'device2': tensor([-0.4390,  0.6710,\n",
            "-1.2762])}\n",
            "device1: cpu\n",
            "device2: cpu\n"
          ]
        }
      ]
    },
    {
      "cell_type": "markdown",
      "source": [
        "# 연산자 기초코딩"
      ],
      "metadata": {
        "id": "6DkvlMDp0qq3"
      }
    },
    {
      "cell_type": "code",
      "source": [
        "def greet(name,age):\n",
        "    print(f\"Hello, {name}!, 올해 {age}살이군요 \")\n",
        "person = {'name':'홍길동','age':30}\n",
        "\n",
        "# 연산 코딩 (**를 사용 딕셔너리 값을 함수의 인자로 전달)\n",
        "greet(**person)"
      ],
      "metadata": {
        "colab": {
          "base_uri": "https://localhost:8080/"
        },
        "id": "Gmpv1bzO0p-o",
        "outputId": "411ee678-0ebd-44c3-b73e-ccd3d4422c97"
      },
      "execution_count": 88,
      "outputs": [
        {
          "output_type": "stream",
          "name": "stdout",
          "text": [
            "Hello, 홍길동!, 올해 30살이군요\n"
          ]
        }
      ]
    },
    {
      "cell_type": "markdown",
      "source": [
        "- • 파이썬에서 ** 연산자는 주로 딕셔너리를 함수의 인자로 전달할 때 사용된다.\n",
        "- • 이를 통해 함수 내에서 딕셔너리의 키를 변수명으로 사용하여 값에 접근할 수 있다.\n",
        "- • 이를 언패킹(unpacking) 연산자라고 한다."
      ],
      "metadata": {
        "id": "WrfJexH3124f"
      }
    },
    {
      "cell_type": "code",
      "source": [],
      "metadata": {
        "id": "IP_b7o6T17v1"
      },
      "execution_count": null,
      "outputs": []
    }
  ]
}