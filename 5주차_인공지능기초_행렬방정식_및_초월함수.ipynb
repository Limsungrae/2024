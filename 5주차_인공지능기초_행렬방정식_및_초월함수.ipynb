{
  "nbformat": 4,
  "nbformat_minor": 0,
  "metadata": {
    "colab": {
      "private_outputs": true,
      "provenance": [],
      "include_colab_link": true
    },
    "kernelspec": {
      "name": "python3",
      "display_name": "Python 3"
    },
    "language_info": {
      "name": "python"
    }
  },
  "cells": [
    {
      "cell_type": "markdown",
      "metadata": {
        "id": "view-in-github",
        "colab_type": "text"
      },
      "source": [
        "<a href=\"https://colab.research.google.com/github/Limsungrae/2024/blob/main/5%EC%A3%BC%EC%B0%A8_%EC%9D%B8%EA%B3%B5%EC%A7%80%EB%8A%A5%EA%B8%B0%EC%B4%88_%ED%96%89%EB%A0%AC%EB%B0%A9%EC%A0%95%EC%8B%9D_%EB%B0%8F_%EC%B4%88%EC%9B%94%ED%95%A8%EC%88%98.ipynb\" target=\"_parent\"><img src=\"https://colab.research.google.com/assets/colab-badge.svg\" alt=\"Open In Colab\"/></a>"
      ]
    },
    {
      "cell_type": "markdown",
      "source": [
        "\n",
        "# Matplotlib\n",
        "  * 그래프를 그리기 위해서는 **matplotlib** 패키지를 활용함\n",
        "\n"
      ],
      "metadata": {
        "id": "7V3p6683VLiZ"
      }
    },
    {
      "cell_type": "code",
      "source": [
        "import matplotlib.pyplot as plt"
      ],
      "metadata": {
        "id": "lhxWFGYIVZpF"
      },
      "execution_count": null,
      "outputs": []
    },
    {
      "cell_type": "markdown",
      "source": [
        "## 기본 그래프 기리기\n",
        "* `plt.plot()` : 입력에 y 값들의 배열을 입력"
      ],
      "metadata": {
        "id": "Z5lpwWC3Var7"
      }
    },
    {
      "cell_type": "code",
      "source": [
        "plt.plot([1,2,3,4])\n",
        "plt.show()"
      ],
      "metadata": {
        "id": "oDY20YpkVoCn"
      },
      "execution_count": null,
      "outputs": []
    },
    {
      "cell_type": "markdown",
      "source": [
        "* `pyplot.plot()` 함수에 하나의 숫자 리스트를 입력함으로써 그래프가 그려짐\n",
        "* `plot()` 함수는 리스트(또는 배열)의 값들이 `y` 값들이라고 가정하고, `x` 값 `[0, 1, 2, 3]`을 자동으로 생성\n",
        "* `matplotlib.pyplot` 모듈의 `show()` 함수는 그래프를 화면에 나타나도록 함"
      ],
      "metadata": {
        "id": "j475b4baVwFh"
      }
    },
    {
      "cell_type": "code",
      "source": [
        "plt.plot([1, 2, 3, 4], [1, 4, 9, 16])\n",
        "plt.show()"
      ],
      "metadata": {
        "id": "OrMzdLsUWDc6"
      },
      "execution_count": null,
      "outputs": []
    },
    {
      "cell_type": "markdown",
      "source": [
        "*  `[1, 2, 3, 4]`는 $x$축의 값들의 배열\n",
        "* `[1, 4, 9, 6]`은 $y$축 값들의 배열\n",
        "* $x$값 1에 대응하는 $y$의 값은 1, $x$값 2에 대응하는 $y$의 값은 4, $x$값 3에 대응하는 $y$의 값은 9, $x$값 4에 대응하는 $y$의 값은 16"
      ],
      "metadata": {
        "id": "IbcOX-vfWGff"
      }
    },
    {
      "cell_type": "markdown",
      "source": [
        "## `plot` 그래프 스타일 지정"
      ],
      "metadata": {
        "id": "eol3wIL-Wonb"
      }
    },
    {
      "cell_type": "code",
      "source": [
        "# ([1, 2, 3, 4], [1, 4, 9, 16], 'ro')\n",
        "plt.plot([1, 2, 3, 4], [1, 4, 9, 16], 'rd-')\n",
        "\n",
        "# axis = x 와 y 지정 예 : x = 0~6 , y = 0 ~ 20[0,6,0,20]\n",
        "plt.axis([0, 6, 0, 20])\n",
        "plt.show()"
      ],
      "metadata": {
        "id": "7-4Q3h3XWsXp"
      },
      "execution_count": null,
      "outputs": []
    },
    {
      "cell_type": "markdown",
      "source": [
        "### 라인 형태 지정\n",
        "* $x, y$ 값 인자에 대해 선의 색상과 형태를 지정하는 **포맷 문자열** (*Format string*)을 세번째 인자에 입력할 수 있음\n",
        "\n",
        "* 포맷 문자열 `‘ro’`는 빨간색 (‘red’)의 원형 (‘o’) 마커를 의미\n",
        "* 예를 들어 ‘b-‘는 파란색 (‘blue’)의 실선 (‘-‘)을 의미\n",
        "\n",
        "* 색상 문자\n",
        "\n",
        "|문자\t|색상|\n",
        "|-|-|\n",
        "|b|\tblue|\n",
        "|g\t|green|\n",
        "|r\t|<span style=\"color:red\">red</span>|\n",
        "|c\t|cyan|\n",
        "|m\t|magenta|\n",
        "|y\t|yellow|\n",
        "|k\t|black|\n",
        "|w\t|white|\n",
        "* 마커 문자\n",
        "|문자|\t마커|\n",
        "|-|-|\n",
        "|.\t|point|\n",
        "|,\t|pixel|\n",
        "|o\t|circle|\n",
        "|v\t|triangle down|\n",
        "|^\t|triangle up|\n",
        "|<|\ttriangle left|\n",
        "|>|\ttriangle right|\n",
        "|1|\ttriangle down 2|\n",
        "|2|\ttriangle up 2|\n",
        "|3|\ttriangle left 2|\n",
        "|4|\ttriangle right 2|\n",
        "|s|\tsquare|\n",
        "|p|\tpentagon|\n",
        "|*|\tstar|\n",
        "|h|\thexagon 1|\n",
        "|H|\thexagon 2|\n",
        "|+|\tplus|\n",
        "|x|\tx|\n",
        "|D|\tdiamond|\n",
        "|d|\tthin diamond|\n",
        "||\tvline|\n",
        "|–|\thline|\n",
        "\n",
        "* 라인 문자\n",
        "|문자\t|스타일|\n",
        "|-|_|\n",
        "|–|\tsolid|\n",
        "|—|\tdashed|\n",
        "|-.|\tdash dot|\n",
        "|:|\tdotted|\n",
        "\n",
        "### 축 범위 지정\n",
        "\n",
        "* `axis()` 함수를 이용해서 축의 범위 [xmin, xmax, ymin, ymax] 지정"
      ],
      "metadata": {
        "id": "6lcpug7sarX0"
      }
    },
    {
      "cell_type": "markdown",
      "source": [
        "## 여러 개의 그래프 그리기"
      ],
      "metadata": {
        "id": "inH80qH7c3zX"
      }
    },
    {
      "cell_type": "code",
      "source": [
        "import matplotlib.pyplot as plt\n",
        "import numpy as np\n",
        "\n",
        "# 200ms 간격으로 균일하게 샘플된 시간\n",
        "t = np.arange(0., 5., 0.2)\n",
        "\n",
        "# 빨간 대쉬, 파란 사각형, 녹색 삼각형\n",
        "plt.plot(t, t, 'r--', t, t**2, 'bs', t, t**3, 'g^')\n",
        "plt.show()"
      ],
      "metadata": {
        "id": "VTamyE-qc1jz"
      },
      "execution_count": null,
      "outputs": []
    },
    {
      "cell_type": "code",
      "source": [
        "t = np.arange(0., 5., 0.2)\n",
        "plt.title('Plot')\n",
        "\n",
        "plt.plot(t,t, 'r--', label = '$y=x$')\n",
        "plt.plot(t, t**2, 'bs', label = '$y=x^2$')\n",
        "\n",
        "# plt.plot(t, t**3, 'g^', label = 'y=x^3')\n",
        "\n",
        "#\n",
        "plt.plot(t, t**3, 'g^', label = '$y=x^3$')\n",
        "\n",
        "plt.legend()\n",
        "plt.xlabel('x')\n",
        "plt.ylabel('y')\n",
        "plt.show()"
      ],
      "metadata": {
        "id": "zYshEwKqlUwt"
      },
      "execution_count": null,
      "outputs": []
    },
    {
      "cell_type": "markdown",
      "source": [
        "# 행렬을 이용한 연립 1차 방정식 계산\n",
        "> **문제**)어느 휴양림에 A, B 두 팀이 입장하였는데, 성인 5명, 청소년 3명으로 이루어진 A팀의 입장료는 6,800원, 성인 3명, 청소년 2명으로 이루어진 B팀의 입장료는 4,200원이었다. 이 휴양림의 성인과 청소년 1명의 입장료는?\n",
        "\n",
        "  * 위 문제에서 우리가 알지 못하는 것은 성인의 입장료, 청소년의 입장료의 2가지\n",
        "  * 알지 못하는 수(**미지수**)가 2개 이상인 경우 미지수를 알기 위해서는 2개의 방정식이 도출되어야 함.\n",
        "  * $n$개의 방정식을 이용하여 $n$개의 미지수를 알아내는 것을 **연립방정식**이라고 부름\n",
        "\n",
        "## 연립방정식의 풀이\n",
        "  * 성인의 입장료는 $x$원, 청소년 입장료는 $y$원이라고 하면 다음과 같이 두 개의 방정식을 수립할 수 있음\n",
        "    * A팀의 입장료 총합\n",
        "    $$5x + 3y = 6800$$\n",
        "    * B 팀의 입장료 총합\n",
        "    $$3x + 2y = 4200$$\n",
        "\n",
        "## 파이썬으로 문제 풀기\n"
      ],
      "metadata": {
        "id": "eZXt9C9QSJ9F"
      }
    },
    {
      "cell_type": "markdown",
      "source": [
        "### 그래프를 그려서 문제 풀기\n",
        "  * matplotlib의 pyplot이라는 서브패키지를 활용함\n",
        "  * 두 방정식을 $y$에 관한 함수 형식으로 변형\n",
        "\n",
        "$$\n",
        "  y = {{-5}\\over{3}}x + {{6800}\\over{3}}\\\\\n",
        "  y = {{-3}\\over{2}}x + {{4200}\\over{2}}\n",
        "$$\n",
        "  * 위의 두 식을 그래프로 그리기\n",
        "     * 두 식을 각각 함수로 만들기\n"
      ],
      "metadata": {
        "id": "FmD-gTIsUXaA"
      }
    },
    {
      "cell_type": "code",
      "execution_count": null,
      "metadata": {
        "id": "OCyMhVpuR-pe"
      },
      "outputs": [],
      "source": [
        "import numpy as np\n",
        "def charge_a(x):\n",
        "  ret = (-5 / 3)*x + 6800/3\n",
        "  return ret\n",
        "\n",
        "def charge_b(x):\n",
        "  ret = (-3 / 2)*x + 4200/2\n",
        "  return ret\n"
      ]
    },
    {
      "cell_type": "markdown",
      "source": [
        "  \n",
        "* x값에 들어갈 값들의 범위를 numpy 배열로 만들어주기\n",
        "* x값을 입력한 y값을 도출"
      ],
      "metadata": {
        "id": "VXZ4BNdCdyuL"
      }
    },
    {
      "cell_type": "code",
      "source": [
        "x = np.arange(900, 1100) # 900원 부터 1099원 사이의 값\n",
        "ya = charge_a(x)\n",
        "yb = charge_b(x)"
      ],
      "metadata": {
        "id": "bFJWADnsd3l9"
      },
      "execution_count": null,
      "outputs": []
    },
    {
      "cell_type": "markdown",
      "source": [
        "* A팀의 그래프와 y팀의 그래프를 그려주기"
      ],
      "metadata": {
        "id": "XejCCIUNeZ_F"
      }
    },
    {
      "cell_type": "code",
      "source": [
        "import matplotlib.pyplot as plt\n",
        "plt.plot(x, ya, 'r', label = 'A-team')\n",
        "plt.plot(x, yb, 'g', label = 'B-team')\n",
        "\n",
        "plt.legend()\n",
        "plt.grid()\n",
        "plt.xlabel('adult')\n",
        "plt.ylabel('young')\n",
        "plt.show()"
      ],
      "metadata": {
        "id": "Sqehgj_Aedie"
      },
      "execution_count": null,
      "outputs": []
    },
    {
      "cell_type": "markdown",
      "source": [
        "* 그래프를 이용한 방법은 대략적인 금액은 알 수 있으나 정확한 금액을 얻기는 어렵다.\n",
        "\n"
      ],
      "metadata": {
        "id": "uUKMiEv_fNR1"
      }
    },
    {
      "cell_type": "markdown",
      "source": [
        "### 행렬 연산을 이용하여 문제 풀기\n",
        "   $$5x + 3y = 6800\\\\    3x + 2y = 4200$$\n",
        "\n",
        "* 위의 식은 다음과 같이 행렬을 이용한 식으로 변환 가능\n",
        "$$\n",
        "\\rm{A} = \\left[ \\begin{matrix} 5 & 3 \\\\ 3 &2\\\\ \\end{matrix} \\right]\n",
        "\\left[ \\begin{matrix} x \\\\y\\\\ \\end{matrix} \\right] = \\left[ \\begin{matrix} 6800 \\\\ 4200\\\\ \\end{matrix} \\right]\n",
        "$$\n",
        "\n",
        "* 위의 행렬식을 Numpy를 이용하여 계산해보기로 하자\n",
        "\n",
        "### numpy의 **solve()** 함수를 이용하여 풀기\n",
        "* numpy에는 행렬 형태로 만든 연립방정식을 풀어주는 **solve**라는 강력한 기능이 있음"
      ],
      "metadata": {
        "id": "0R4q3ZLcfbZP"
      }
    },
    {
      "cell_type": "code",
      "source": [
        "import numpy as np\n",
        "A = np.array([[5, 3], [3, 2]])\n",
        "print(f'A = {A}')\n",
        "b = np.array([6800, 4200])\n",
        "print(f'b = {b}')\n",
        "result = np.linalg.solve(A, b)\n",
        "print(f'result = {result}')"
      ],
      "metadata": {
        "id": "OOXqIBFjg-2o"
      },
      "execution_count": null,
      "outputs": []
    },
    {
      "cell_type": "markdown",
      "source": [
        "### 역행렬을 이용하여 풀기\n",
        "* 역행렬의 성질 중\n",
        "$$ {\\rm{A}}^{-1} {\\rm{A}} = {\\rm{A}} {\\rm{A}}^{-1} = \\rm{I}$$\n",
        "와 항등행렬의 성질 중\n",
        "$$ {\\rm{I}} {\\rm{A}} = {\\rm{A}} {\\rm{I}} = \\rm{A}$$\n",
        "를 이용하면\n",
        "$$\n",
        "{\\rm{A}}{\\rm{x}}={\\rm{y}} \\\\\n",
        "{\\rm{A}}^{-1}{\\rm{A}}{\\rm{x}}={\\rm{A}}^{-1}{\\rm{y}} \\\\\n",
        "{\\rm{I}}{\\rm{x}}={\\rm{A}}^{-1}{\\rm{y}} \\\\\n",
        "{\\rm{x}}={\\rm{A}}^{-1}{\\rm{y}} \\\\\n",
        "$$"
      ],
      "metadata": {
        "id": "keUAHy1Mhia6"
      }
    },
    {
      "cell_type": "code",
      "source": [
        "import numpy as np\n",
        "A = np.array([[5, 3], [3, 2]])\n",
        "print(f'A = {A}')\n",
        "b = np.array([6800, 4200])\n",
        "print(f'b = {b}')\n",
        "Ainv = np.linalg.inv(A)\n",
        "result = Ainv@b\n",
        "print(result)"
      ],
      "metadata": {
        "id": "zQ3LNFT_inIM"
      },
      "execution_count": null,
      "outputs": []
    },
    {
      "cell_type": "markdown",
      "source": [
        "### 예제\n",
        "5명이 음식점에 가서 각자 떡볶이 또는 김밥을 1인분씩 주문하고 8500원을 지불하였다. 1인분에 떡볶이는 1500원, 김밥은 2000원일 때, 떡볶이를 주문한 사람과 김밥을 주문한 사람은 몇 명인지 구하라.\n",
        ">Hint) 떡볶이를 주문한 사람을 $x$, 김밥을 주문한 사람을 $y$로 놓고 방정식을 세울 것"
      ],
      "metadata": {
        "id": "JCNQc7G_i7TY"
      }
    },
    {
      "cell_type": "code",
      "source": [
        "import numpy as np\n",
        "\n",
        "AA = np.array([[1, 1], [1, 1]])\n",
        "print(f'A = {AA}')\n",
        "bb = np.array([8500, 8500])\n",
        "print(f'b = {bb}')"
      ],
      "metadata": {
        "id": "IYCJphs7k7Kl"
      },
      "execution_count": null,
      "outputs": []
    },
    {
      "cell_type": "code",
      "source": [
        "# prompt: numpy 사용하여 5명이 음식점에 가서 각자 떡볶이 또는 김밥을 1인분씩 주문하고 8500원을 지불하였다. 1인분에 떡볶이는 1500원, 김밥은 2000원일 때, 떡볶이를 주문한 사람과 김밥을 주문한 사람은 몇 명인지 구하라.\n",
        "\n",
        "import numpy as np\n",
        "\n",
        "# 떡볶이를 주문한 사람을 x, 김밥을 주문한 사람을 y라고 놓고 방정식을 세웁니다.\n",
        "# x + y = 5\n",
        "# 1500x + 2000y = 8500\n",
        "\n",
        "A = np.array([[1, 1], [1500, 2000]])\n",
        "b = np.array([5, 8500])\n",
        "\n",
        "# numpy.linalg.solve를 사용하여 연립방정식을 풉니다.\n",
        "result = np.linalg.solve(A, b)\n",
        "\n",
        "# 결과 출력 (떡볶이 주문한 사람 수, 김밥 주문한 사람 수)\n",
        "print(result)\n"
      ],
      "metadata": {
        "id": "s7Nz4C0ywJrL"
      },
      "execution_count": null,
      "outputs": []
    },
    {
      "cell_type": "markdown",
      "source": [
        "## numpy의 수학 함수\n",
        "* `numpy.exp` exponential 값 구하기"
      ],
      "metadata": {
        "id": "EQAuaWu2k7jm"
      }
    },
    {
      "cell_type": "code",
      "source": [
        "import numpy as np\n",
        "print(np.exp(0))\n",
        "print(np.exp(1))\n",
        "print(np.exp(10))"
      ],
      "metadata": {
        "id": "VyY4wv0ClX11"
      },
      "execution_count": null,
      "outputs": []
    },
    {
      "cell_type": "markdown",
      "source": [
        "* `numpy.exp`의 어레이 입력"
      ],
      "metadata": {
        "id": "cZ6uuTVxleuP"
      }
    },
    {
      "cell_type": "code",
      "source": [
        "a = np.array([0, 1, 10])\n",
        "print(np.exp(a))"
      ],
      "metadata": {
        "id": "nR_2pPq5liJz"
      },
      "execution_count": null,
      "outputs": []
    },
    {
      "cell_type": "markdown",
      "source": [
        "* 어레이 입력 후 그래프 그리기"
      ],
      "metadata": {
        "id": "brsSi033lper"
      }
    },
    {
      "cell_type": "code",
      "source": [
        "import numpy as np\n",
        "import matplotlib.pyplot as plt\n",
        "\n",
        "x = np.linspace(-3, 3, 100)\n",
        "y1 = np.exp(x)\n",
        "y2 = np.exp(-x)\n",
        "plt.plot(x, y1, label = '$\\exp^x$')\n",
        "plt.plot(x, y2, label = '$\\exp^{-x}$')\n",
        "plt.grid()\n",
        "plt.legend()\n",
        "plt.show()"
      ],
      "metadata": {
        "id": "4R-QIwp2lrpz"
      },
      "execution_count": null,
      "outputs": []
    },
    {
      "cell_type": "markdown",
      "source": [
        "> `exp2()` 함수 : $2^n$ ($n$은 입력값)를 계산하는 함수\n",
        "\n",
        "* `numpy.log()` : 자연로그 계산"
      ],
      "metadata": {
        "id": "S_P7qxBGmc--"
      }
    },
    {
      "cell_type": "code",
      "source": [
        "import numpy as np\n",
        "\n",
        "a = np.array([1, np.e, np.e**2, 0])\n",
        "print(np.log(a))"
      ],
      "metadata": {
        "id": "SwHo5DdZmwub"
      },
      "execution_count": null,
      "outputs": []
    },
    {
      "cell_type": "markdown",
      "source": [
        "* `log()` 함수의 어레이 계산"
      ],
      "metadata": {
        "id": "W4drEIC2m4s8"
      }
    },
    {
      "cell_type": "code",
      "source": [
        "import numpy as np\n",
        "import matplotlib.pyplot as plt\n",
        "\n",
        "x = np.linspace(-3, 3, 100)\n",
        "y1 = np.log(x)\n",
        "y2 = np.log(-x)\n",
        "plt.plot(x, y1, label = '$\\log{x}$')\n",
        "plt.plot(x, y2, label = '$\\log{-x}$')\n",
        "plt.grid()\n",
        "plt.legend()\n",
        "plt.show()"
      ],
      "metadata": {
        "id": "ZWAI-go-m7sB"
      },
      "execution_count": null,
      "outputs": []
    },
    {
      "cell_type": "markdown",
      "source": [
        "* `numpy.log2()` : 입력 어레이에 대해 밑이 2인 로그 값을 반환\n",
        "* `numpy.log10()` : 입력 어레이에 대해 밑이 10인 로그 값을 반환\n",
        "* `numpy.sqrt()` : 어레이의 요소 단위로 음이 아닌 제곱근 (square-root)을 반환"
      ],
      "metadata": {
        "id": "S5Td0ej7nbJI"
      }
    },
    {
      "cell_type": "code",
      "source": [
        "import numpy as np\n",
        "\n",
        "a = np.sqrt(2)\n",
        "print(a)\n",
        "\n",
        "b = np.sqrt([1, 4, 9])\n",
        "print(b)"
      ],
      "metadata": {
        "id": "QWuQUyVdnrs0"
      },
      "execution_count": null,
      "outputs": []
    },
    {
      "cell_type": "markdown",
      "source": [
        "* `numpy.around()` : 어레이의 성분을 주어진 소수점 자리로 반올림\n",
        "* `numpy.ceil()` : 입력의 요소 단위의 ‘ceil’ 값을 반환\n",
        "* `numpy.floor()` : 입력의 요소 단위의 ‘floor’ 값을 반환\n",
        "* `numpy.rint()` : 어레이의 성분을 가장 가까운 정수로 반올림합니다.\n",
        "* `numpy.round()` : 어레이의 성분을 주어진 소수점 자리로 반올림합니다."
      ],
      "metadata": {
        "id": "FDjN265unw88"
      }
    },
    {
      "cell_type": "code",
      "source": [
        "a = np.array([0.001, -0.1123, 4.151, -11.24499])\n",
        "a_rounded = np.around(a, 2)\n",
        "a_ceiled = np.ceil(a)\n",
        "a_floored = np.floor(a)\n",
        "a_rounded2 = np.rint(a)\n",
        "\n",
        "print(a_rounded)\n",
        "print(a_ceiled)\n",
        "print(a_floored)\n",
        "print(a_rounded2)"
      ],
      "metadata": {
        "id": "8q6JLRsNoLVU"
      },
      "execution_count": null,
      "outputs": []
    },
    {
      "cell_type": "markdown",
      "source": [
        "* `numpy.sin` : 삼각함수 사인 값(trigonometric sine)을 반환\n",
        "* `numpy.cos` : 삼각함수 코사인 값(trigonometric cosine)을 반환\n",
        "* `numpy.tan` : 삼각함수 탄젠트 값(trigonometric tangent)을 반환\n",
        "\n"
      ],
      "metadata": {
        "id": "GVuMgK-Onu6E"
      }
    },
    {
      "cell_type": "code",
      "source": [
        "import numpy as np\n",
        "import matplotlib.pyplot as plt\n",
        "\n",
        "a = np.linspace(0, 4*np.pi, 400)\n",
        "res_sin = np.sin(a)\n",
        "res_cos = np.cos(a)\n",
        "res_tan = np.tan(a)\n",
        "\n",
        "plt.plot(a, res_sin, '.', label = '$\\\\sin{x}$')\n",
        "plt.plot(a, res_cos, '.', label = '$\\\\cos{x}$')\n",
        "plt.plot(a, res_tan, '.', label = '$\\\\tan{x}$')\n",
        "plt.ylim([-2, 2])\n",
        "plt.legend()\n",
        "plt.grid()\n",
        "plt.show()"
      ],
      "metadata": {
        "id": "SUTqjCpoo-12"
      },
      "execution_count": null,
      "outputs": []
    },
    {
      "cell_type": "markdown",
      "source": [
        "* `numpy.arcsin` : 역삼각함수 아크사인 값(inverse trigonometric sine)을 반환\n",
        "\n",
        "* `numpy.arccos` : 역삼각함수 아크코사인 값(inverse trigonometric cosine)을 반환\n",
        "\n",
        "* `numpy.arctan` : 역삼각함수 아크탄젠트 값(inverse trigonometric tangent)을 반환.\n",
        "\n"
      ],
      "metadata": {
        "id": "AlKs3trZo9wI"
      }
    },
    {
      "cell_type": "code",
      "source": [
        "import numpy as np\n",
        "import matplotlib.pyplot as plt\n",
        "\n",
        "a = np.linspace(-3, 3, 100)\n",
        "res_asin = np.arcsin(a)\n",
        "res_acos = np.arccos(a)\n",
        "res_atan = np.arctan(a)\n",
        "plt.plot(a, res_asin, '.', label = '$\\\\arcsin{x}$')\n",
        "plt.plot(a, res_acos, '.', label = '$\\\\arccos{x}$')\n",
        "plt.plot(a, res_atan, '.', label = '$\\\\arctan{x}$')\n",
        "plt.legend()\n",
        "plt.grid()\n",
        "plt.show()"
      ],
      "metadata": {
        "id": "PuApxYh5qKQp"
      },
      "execution_count": null,
      "outputs": []
    },
    {
      "cell_type": "markdown",
      "source": [
        "* `numpy.sinh` : 하이퍼볼릭 사인 값(hyperbolic sine)을 반환\n",
        "\n",
        "* `numpy.cosh` : 하이퍼볼릭 코사인 값(hyperbolic cosine)을 반환\n",
        "\n",
        "* `numpy.tanh` : 하이퍼볼릭 탄젠트 값(hyperbolic tangent)을 반환\n",
        "\n",
        "* `numpy.arcsinh` : 하이퍼볼릭 아크사인 값 (inverse hyperbolic sine)을 반환\n",
        "\n",
        "* `numpy.arccosh` : 하이퍼볼릭 아크코사인 값 (inverse hyperbolic cosine)을 반환\n",
        "\n",
        "* `numpy.arctanh` : 하이퍼볼릭 아크탄젠트 값 (inverse hyperbolic tangent)을 반환\n",
        "\n",
        "* `numpy.deg2rad` : 각도의 단위를 도(degree)에서 라디안(radian) 단위로 변환\n",
        "\n",
        "* `numpy.rad2deg` : 각도의 단위를 라디안(radian)에서 도(degree) 단위로 변환"
      ],
      "metadata": {
        "id": "al74OboVqJLz"
      }
    },
    {
      "cell_type": "code",
      "source": [
        "import numpy as np\n",
        "import matplotlib.pyplot as plt\n",
        "\n",
        "a = np.linspace(-4*np.pi, 4*np.pi, 400)\n",
        "res_sin = np.sinh(a)\n",
        "res_cos = np.cosh(a)\n",
        "res_tan = np.tanh(a)\n",
        "\n",
        "plt.plot(a, res_sin, '.', label = '$\\\\sinh{x}$')\n",
        "plt.plot(a, res_cos, '.', label = '$\\\\cosh{x}$')\n",
        "plt.plot(a, res_tan, '.', label = '$\\\\tanh{x}$')\n",
        "plt.ylim([-4, 4])\n",
        "plt.legend()\n",
        "plt.grid()\n",
        "plt.show()"
      ],
      "metadata": {
        "id": "01ythhUOsVHF"
      },
      "execution_count": null,
      "outputs": []
    },
    {
      "cell_type": "markdown",
      "source": [
        "## 신경망 회로의 활성함수(activation function)\n",
        "![](https://img1.daumcdn.net/thumb/R1280x0/?scode=mtistory2&fname=https%3A%2F%2Ft1.daumcdn.net%2Fcfile%2Ftistory%2F993FAA4B5B6CF9BC03)\n",
        "\n",
        "### 계단 함수\n",
        "* 입력이 양수일때는 1(보낸다)을 음수일때는 0(보내지 않는다)의 신호를 보내주는 이진적인(Binary) 함수\n",
        "* 직관적으로는 상당히 좋음\n",
        "  * 0이상이면 출력\n",
        "  * 0이하면 뉴런을 죽임\n",
        "  \n",
        "* 모델 Optimization과정에서 미분을 해야하므로 미분이 되지않기 때문에 사용하기 좋지 않음\n",
        "\n"
      ],
      "metadata": {
        "id": "8fMwitMusso3"
      }
    },
    {
      "cell_type": "code",
      "source": [
        "import numpy as np\n",
        "\n",
        "\n",
        "a = np.linspace(-2, 2, 100)\n",
        "y = np.heaviside(a, 0)\n",
        "plt.plot(a, y)\n",
        "plt.show()"
      ],
      "metadata": {
        "id": "qzg1AIc7uM6X"
      },
      "execution_count": null,
      "outputs": []
    },
    {
      "cell_type": "markdown",
      "source": [
        "###Sigmoid Function\n",
        "\n",
        " * 입력을 (0,1\n",
        ") 사이의 값으로 normalize함\n",
        " * 과거에 상당히 인기가 있었던 활성화 함수\n",
        " * sigmoid의 수식과 그 미분은 아래와 같다.\n",
        "\n",
        "$$\n",
        "sigmoid(x) = {{1}\\over{1+e^{-x}}}\\\\\n",
        "{{\\partial}\\over{∂x}}sigmoid(x) = {{1}\\over{1+e^{-x}}}\\left( 1 - {{1}\\over{1+e^{-x}}} \\right)\n",
        "$$"
      ],
      "metadata": {
        "id": "crqQXSGdvD8X"
      }
    },
    {
      "cell_type": "code",
      "source": [
        "import numpy as np\n",
        "import matplotlib.pyplot as plt\n",
        "\n",
        "def sigmoid(x):\n",
        "  return 1 / (1 + np.exp(-x))\n",
        "\n",
        "def d_sigmoid(x):\n",
        "  return (1 / (1 + np.exp(-x)))*(1 - (1/(1+np.exp(-x))))\n",
        "\n",
        "a = np.linspace(-6, 6, 100)\n",
        "sig = sigmoid(a)\n",
        "dsig = d_sigmoid(x)\n",
        "plt.plot(a, sig, label = '$sigmoid(x)$')\n",
        "plt.plot(a, dsig, label = \"$ sigmoid'(x)$\")\n",
        "plt.legend()\n",
        "plt.grid()\n",
        "plt.show()\n"
      ],
      "metadata": {
        "id": "ORW8ilgGvw2A"
      },
      "execution_count": null,
      "outputs": []
    },
    {
      "cell_type": "markdown",
      "source": [
        "### tanh Function\n",
        "\n",
        " * sigmoid fuction을 보완하고자 나온 함수\n",
        " * 입력신호를 (−1,1\n",
        ") 사이의 값으로 normalization\n",
        " * 거의 모든 방면에서 sigmoid보다 성능이 좋음\n",
        " * 수식은 아래와 같음\n",
        "\n",
        "$$\n",
        "\\tanh(x) = {{e^x - e^{-x}}\\over{e^x + e^{-x}}}\n",
        "\\\\\n",
        "{{d}\\over{dx}} \\tanh(x) = 1 - \\tanh^2 (x)\n",
        "$$\n"
      ],
      "metadata": {
        "id": "MH9w9xkkwwRo"
      }
    },
    {
      "cell_type": "code",
      "source": [
        "import numpy as np\n",
        "import matplotlib.pyplot as plt\n",
        "\n",
        "\n",
        "def d_tanh(x):\n",
        "  return 1 -np.tanh(x)**2\n",
        "\n",
        "a = np.linspace(-6, 6, 100)\n",
        "th = np.tanh(a)\n",
        "dth = d_sigmoid(x)\n",
        "plt.plot(a, th, label = '$\\\\tanh(x)$')\n",
        "plt.plot(a, dth, label = \"$ \\\\tanh'(x)$\")\n",
        "plt.legend()\n",
        "plt.grid()\n",
        "plt.show()"
      ],
      "metadata": {
        "id": "Pi-kIXQ0xZIm"
      },
      "execution_count": null,
      "outputs": []
    },
    {
      "cell_type": "markdown",
      "source": [
        "### ReLU Function (Rectified Linear Unit)\n",
        "\n",
        " * 현재 가장 인기있는 활성화 함수\n",
        " * 양수에서 Linear Function과 같으며 음수는 0으로 버려버리는 함수\n",
        "\n",
        " $$\n",
        " Relu(x)=\\max(0,x)\n",
        "$$\n",
        "* 기울기(미분값)가 0 또는 1의 값을 가지기 때문에 Sigmoid Function에서 나타나는 Gradient Vanishing 문제가 발생하지 않음\n",
        "* 언뜻 보기에는 Linear Function과 같은 문제가 없을까 생각이 들 수 있지만 엄연히 Non-Linear함수 이므로 Layer를 deep하게 쌓을 수 있음\n",
        "* 또한 `exp()` 함수를 실행하지 않아 sigmoid함수나 tanh함수보다 6배 정도 빠르게 학습이 된다고 함"
      ],
      "metadata": {
        "id": "QNVi64xzxyrn"
      }
    },
    {
      "cell_type": "code",
      "source": [
        "import numpy as np\n",
        "import matplotlib.pyplot as plt\n",
        "\n",
        "\n",
        "def relu(x):\n",
        "  return np.maximum(0, x)\n",
        "a = np.linspace(-6, 6, 100)\n",
        "res = relu(a)\n",
        "plt.plot(a, res)\n",
        "plt.grid()\n",
        "plt.show()"
      ],
      "metadata": {
        "id": "BpnDi6mYx6hv"
      },
      "execution_count": null,
      "outputs": []
    },
    {
      "cell_type": "markdown",
      "source": [],
      "metadata": {
        "id": "8hPxiDHvzBSp"
      }
    }
  ]
}